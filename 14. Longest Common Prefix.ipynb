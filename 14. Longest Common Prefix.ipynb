{
 "cells": [
  {
   "cell_type": "markdown",
   "metadata": {},
   "source": [
    "## 14. Longest Common Prefix"
   ]
  },
  {
   "cell_type": "markdown",
   "metadata": {},
   "source": [
    "Write a function to find the longest common prefix string amongst an array of strings.  \n",
    "If there is no common prefix, return an empty string \"\".  \n",
    "\n",
    "Example 1:  \n",
    "Input: [\"flower\",\"flow\",\"flight\"]  \n",
    "Output: \"fl\"  \n",
    "Example 2:  \n",
    "Input: [\"dog\",\"racecar\",\"car\"]  \n",
    "Output: \"\"  \n",
    "Explanation: There is no common prefix among the input strings.\n",
    "\n",
    "Note:  \n",
    "All given inputs are in lowercase letters a-z.  "
   ]
  },
  {
   "cell_type": "markdown",
   "metadata": {},
   "source": [
    "1. **Vertical scanning: We caculate distinct characters on the same column (same character index of the strings) before moving on to the next column.**\n",
    "\n",
    "Runtime: 36 ms, faster than 97.88% of Python3 online submissions for Longest Common Prefix.  \n",
    "Memory Usage: 13.1 MB, less than 5.10% of Python3 online submissions for Longest Common Prefix.  "
   ]
  },
  {
   "cell_type": "code",
   "execution_count": 3,
   "metadata": {
    "ExecuteTime": {
     "end_time": "2019-04-17T12:49:15.380102Z",
     "start_time": "2019-04-17T12:49:15.373130Z"
    }
   },
   "outputs": [],
   "source": [
    "class Solution:\n",
    "    # strs: List[str]\n",
    "    def longestCommonPrefix(self, strs) -> str:\n",
    "        i = 0\n",
    "        for x in zip(*strs):            \n",
    "            if len(set(x)) > 1: return strs[0][:i]            \n",
    "            i += 1            \n",
    "        return strs[0][:i] if strs else ''"
   ]
  },
  {
   "cell_type": "markdown",
   "metadata": {},
   "source": [
    "2. **Since list of string will be sorted and retrieved min max by alphebetic order, we can only compare the max and the min of the list.**  \n",
    "\n",
    "Runtime: 36 ms, faster than 97.88% of Python3 online submissions for Longest Common Prefix.  \n",
    "Memory Usage: 13.3 MB, less than 5.10% of Python3 online submissions for Longest Common Prefix.  "
   ]
  },
  {
   "cell_type": "code",
   "execution_count": 4,
   "metadata": {
    "ExecuteTime": {
     "end_time": "2019-04-17T15:30:31.001770Z",
     "start_time": "2019-04-17T15:30:30.992389Z"
    }
   },
   "outputs": [],
   "source": [
    "class Solution:\n",
    "    # strs: List[str]\n",
    "    def longestCommonPrefix(self, strs) -> str:\n",
    "        if not strs: return ''\n",
    "        s1 = min(strs)\n",
    "        s2 = max(strs)\n",
    "        for i, c in enumerate(s1):\n",
    "            if c != s2[i]:\n",
    "                return s1[:i] # stop until hit the split index\n",
    "        return s1"
   ]
  },
  {
   "cell_type": "markdown",
   "metadata": {},
   "source": [
    "总结：  \n",
    "- `enumerate(sequence, [start=0])`：用于将一个可遍历的数据对象(如列表、元组或字符串)组合为一个索引序列，同时列出数据和数据下标，一般用在 for 循环当中。示例：  \n",
    "seasons = ['Spring', 'Summer', 'Fall', 'Winter']  \n",
    "list(enumerate(seasons))  \n",
    "[(0, 'Spring'), (1, 'Summer'), (2, 'Fall'), (3, 'Winter')]  \n",
    "list(enumerate(seasons, start=1)) # 下标从 1 开始  \n",
    "[(1, 'Spring'), (2, 'Summer'), (3, 'Fall'), (4, 'Winter')]  \n",
    "\n",
    "- `zip([iterable, ...])`：用于将可迭代的对象作为参数，将对象中对应的元素打包成一个个元组，然后返回由这些元组组成的列表。  \n",
    "如果各个迭代器的元素个数不一致，则返回列表长度与最短的对象相同，**利用 * 号操作符，可以将元组解压为列表**。示例：  \n",
    "a = [1,2,3]  \n",
    "b = [4,5,6]  \n",
    "c = [4,5,6,7,8]  \n",
    "zipped = zip(a,b)     # 打包为元组的列表  \n",
    "[(1, 4), (2, 5), (3, 6)]  \n",
    "zip(a,c)              # 元素个数与最短的列表一致  \n",
    "[(1, 4), (2, 5), (3, 6)]  \n",
    "zip(\\*zipped)          # 与 zip 相反，*zipped 可理解为解压，返回二维矩阵式  \n",
    "[(1, 2, 3), (4, 5, 6)]  \n",
    "\n",
    "- 打包：打包就是将传递给函数的任意多个（也可以是零个）非关键字参数/关键字参数打包成一个元组/字典（元组只能接收非关键字参数，字典只能接收关键字参数）。对函数传递的参数进行打包（打包成元组tuple或字典dictionary）和拆解（分解成单个元素），其中元组tuple的打包和解包使用单星号‘\\*’，字典dictionary的打包和拆解使用‘\\*\\*’。  \n",
    "\n",
    "- `set()`：创建一个无序不重复元素集，可进行关系测试，删除重复数据，还可以计算交集、差集、并集等。返回新的集合。示例：  \n",
    "x = set('runoob')  \n",
    "y = set('google')  \n",
    "x, y  \n",
    "(set(['b', 'r', 'u', 'o', 'n']), set(['e', 'o', 'g', 'l']))   # 重复的被删除  \n",
    "x & y         # 交集  \n",
    "set(['o'])  \n",
    "x | y         # 并集  \n",
    "set(['b', 'e', 'g', 'l', 'o', 'n', 'r', 'u'])  \n",
    "x - y         # 差集  \n",
    "set(['r', 'b', 'u', 'n'])  "
   ]
  },
  {
   "cell_type": "code",
   "execution_count": null,
   "metadata": {},
   "outputs": [],
   "source": []
  }
 ],
 "metadata": {
  "kernelspec": {
   "display_name": "Python 3",
   "language": "python",
   "name": "python3"
  },
  "language_info": {
   "codemirror_mode": {
    "name": "ipython",
    "version": 3
   },
   "file_extension": ".py",
   "mimetype": "text/x-python",
   "name": "python",
   "nbconvert_exporter": "python",
   "pygments_lexer": "ipython3",
   "version": "3.7.1"
  },
  "toc": {
   "base_numbering": 1,
   "nav_menu": {},
   "number_sections": false,
   "sideBar": true,
   "skip_h1_title": false,
   "title_cell": "Table of Contents",
   "title_sidebar": "Contents",
   "toc_cell": false,
   "toc_position": {},
   "toc_section_display": true,
   "toc_window_display": false
  },
  "varInspector": {
   "cols": {
    "lenName": 16,
    "lenType": 16,
    "lenVar": 40
   },
   "kernels_config": {
    "python": {
     "delete_cmd_postfix": "",
     "delete_cmd_prefix": "del ",
     "library": "var_list.py",
     "varRefreshCmd": "print(var_dic_list())"
    },
    "r": {
     "delete_cmd_postfix": ") ",
     "delete_cmd_prefix": "rm(",
     "library": "var_list.r",
     "varRefreshCmd": "cat(var_dic_list()) "
    }
   },
   "types_to_exclude": [
    "module",
    "function",
    "builtin_function_or_method",
    "instance",
    "_Feature"
   ],
   "window_display": false
  }
 },
 "nbformat": 4,
 "nbformat_minor": 2
}
