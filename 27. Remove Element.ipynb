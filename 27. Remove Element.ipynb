{
 "cells": [
  {
   "cell_type": "markdown",
   "metadata": {},
   "source": [
    "## 27. Remove Element"
   ]
  },
  {
   "cell_type": "markdown",
   "metadata": {},
   "source": [
    "Given an array nums and a value val, remove all instances of that value in-place and return the new length.  \n",
    "Do not allocate extra space for another array, you must do this by modifying the input array in-place with O(1) extra memory.  \n",
    "The order of elements can be changed. It doesn't matter what you leave beyond the new length.\n",
    "\n",
    "Example 1:  \n",
    "Given nums = [3,2,2,3], val = 3,  \n",
    "Your function should return length = 2, with the first two elements of nums being 2.  \n",
    "It doesn't matter what you leave beyond the returned length.  \n",
    "\n",
    "Example 2:  \n",
    "Given nums = [0,1,2,2,3,0,4,2], val = 2,  \n",
    "Your function should return length = 5, with the first five elements of nums containing 0, 1, 3, 0, and 4.  \n",
    "Note that the order of those five elements can be arbitrary.  \n",
    "It doesn't matter what values are set beyond the returned length. "
   ]
  },
  {
   "cell_type": "markdown",
   "metadata": {},
   "source": [
    "1. **Two Pointers: Since question asked us to remove all elements of the given value in-place, we have to handle it with O(1) extra space. We can keep two pointers i and j, where i is the slow-runner while j is the fast-runner. When nums[j] equals to the given value, skip this element by incrementing j. As long as nums[j]≠val, we copy nums[j] to nums[i] and increment both indexes at the same time. Repeat the process until j reaches the end of the array and the new length is i.  \n",
    "This solution is very similar to the solution to Problem 26 - Remove Duplicates from Sorted Array.**\n",
    "\n",
    "Runtime: 36 ms, faster than 99.32% of Python3 online submissions for Remove Element.  \n",
    "Memory Usage: 13.3 MB, less than 5.09% of Python3 online submissions for Remove Element."
   ]
  },
  {
   "cell_type": "code",
   "execution_count": 1,
   "metadata": {
    "ExecuteTime": {
     "end_time": "2019-04-22T13:59:25.681447Z",
     "start_time": "2019-04-22T13:59:25.675775Z"
    }
   },
   "outputs": [],
   "source": [
    "class Solution:\n",
    "    def removeElement(self, nums, val) -> int:\n",
    "        # removeElement(self, nums: List[int], val: int) -> int\n",
    "        i = 0;\n",
    "        for j in range(len(nums)):\n",
    "            if nums[j] != val:\n",
    "                nums[i] = nums[j];\n",
    "                i = i + 1;\n",
    "        return i;"
   ]
  },
  {
   "cell_type": "markdown",
   "metadata": {},
   "source": [
    "2. **Two Pointers when elements to remove are rare: When we encounter nums[i]=val, we can swap the current element out with the last element and dispose the last one. This essentially reduces the array's size by 1. Note that the last element that was swapped in could be the value you want to remove itself. In the next iteration we will still check this element.**  \n",
    "\n",
    "Runtime: 52 ms, faster than 15.98% of Python3 online submissions for Remove Element.  \n",
    "Memory Usage: 13.1 MB, less than 5.09% of Python3 online submissions for Remove Element."
   ]
  },
  {
   "cell_type": "code",
   "execution_count": 2,
   "metadata": {
    "ExecuteTime": {
     "end_time": "2019-04-22T14:13:58.305845Z",
     "start_time": "2019-04-22T14:13:58.296872Z"
    }
   },
   "outputs": [],
   "source": [
    "class Solution:\n",
    "    def removeElement(self, nums, val) -> int:\n",
    "        # removeElement(self, nums: List[int], val: int) -> int\n",
    "        i = 0;\n",
    "        n = len(nums)\n",
    "        while i < n:\n",
    "            if nums[i] == val:\n",
    "                nums[i] = nums[n - 1];\n",
    "                # reduce array size by one\n",
    "                n = n - 1;\n",
    "            else:\n",
    "                i = i + 1;\n",
    "        return n;"
   ]
  },
  {
   "cell_type": "markdown",
   "metadata": {},
   "source": [
    "3. **Directly use function remove(). However this method could use extra memory more than O(1) because we don't know how this function works.**\n",
    "\n",
    "Runtime: 40 ms, faster than 67.60% of Python3 online submissions for Remove Element.  \n",
    "Memory Usage: 13.1 MB, less than 5.09% of Python3 online submissions for Remove Element."
   ]
  },
  {
   "cell_type": "code",
   "execution_count": 3,
   "metadata": {
    "ExecuteTime": {
     "end_time": "2019-04-22T14:20:59.325310Z",
     "start_time": "2019-04-22T14:20:59.319686Z"
    }
   },
   "outputs": [],
   "source": [
    "class Solution:\n",
    "    def removeElement(self, nums, val) -> int:\n",
    "        # removeElement(self, nums: List[int], val: int) -> int\n",
    "        try:\n",
    "            while True:\n",
    "                nums.remove(val)\n",
    "        except:\n",
    "            return len(nums)"
   ]
  },
  {
   "cell_type": "markdown",
   "metadata": {},
   "source": [
    "总结：  \n",
    "- `list.remove(obj)`：移除列表中某个值的**第一个**匹配项  \n",
    "- 回顾`try...except...`：我们把可能发生错误的语句放在try模块里，用except来处理异常。详见Problem 13 - Roman to Integer 的笔记。\n"
   ]
  }
 ],
 "metadata": {
  "kernelspec": {
   "display_name": "Python 3",
   "language": "python",
   "name": "python3"
  },
  "language_info": {
   "codemirror_mode": {
    "name": "ipython",
    "version": 3
   },
   "file_extension": ".py",
   "mimetype": "text/x-python",
   "name": "python",
   "nbconvert_exporter": "python",
   "pygments_lexer": "ipython3",
   "version": "3.7.1"
  },
  "toc": {
   "base_numbering": 1,
   "nav_menu": {},
   "number_sections": false,
   "sideBar": true,
   "skip_h1_title": false,
   "title_cell": "Table of Contents",
   "title_sidebar": "Contents",
   "toc_cell": false,
   "toc_position": {},
   "toc_section_display": true,
   "toc_window_display": false
  },
  "varInspector": {
   "cols": {
    "lenName": 16,
    "lenType": 16,
    "lenVar": 40
   },
   "kernels_config": {
    "python": {
     "delete_cmd_postfix": "",
     "delete_cmd_prefix": "del ",
     "library": "var_list.py",
     "varRefreshCmd": "print(var_dic_list())"
    },
    "r": {
     "delete_cmd_postfix": ") ",
     "delete_cmd_prefix": "rm(",
     "library": "var_list.r",
     "varRefreshCmd": "cat(var_dic_list()) "
    }
   },
   "types_to_exclude": [
    "module",
    "function",
    "builtin_function_or_method",
    "instance",
    "_Feature"
   ],
   "window_display": false
  }
 },
 "nbformat": 4,
 "nbformat_minor": 2
}
