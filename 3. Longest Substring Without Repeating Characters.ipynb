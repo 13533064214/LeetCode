{
 "cells": [
  {
   "cell_type": "markdown",
   "metadata": {},
   "source": [
    "## 3. Longest Substring Without Repeating Characters"
   ]
  },
  {
   "cell_type": "markdown",
   "metadata": {},
   "source": [
    "Given a string, find the length of the longest substring without repeating characters.\n",
    "\n",
    "Example 1:  \n",
    "Input: \"abcabcbb\"  \n",
    "Output: 3  \n",
    "Explanation: The answer is \"abc\", with the length of 3.\n",
    "\n",
    "Example 2:  \n",
    "Input: \"bbbbb\"  \n",
    "Output: 1  \n",
    "Explanation: The answer is \"b\", with the length of 1.  \n",
    "\n",
    "Example 3:  \n",
    "Input: \"pwwkew\"  \n",
    "Output: 3  \n",
    "Explanation: The answer is \"wke\", with the length of 3. \n",
    "\n",
    "Note that the answer must be a substring, \"pwke\" is a subsequence and not a substring."
   ]
  },
  {
   "cell_type": "markdown",
   "metadata": {},
   "source": [
    "1. **Construct a dictionary**\n",
    "\n",
    "Runtime: 52 ms, faster than 98.34% of Python3 online submissions for Longest Substring Without Repeating Characters.  \n",
    "Memory Usage: 13.2 MB, less than 64.44% of Python3 online submissions for Longest Substring Without Repeating Characters."
   ]
  },
  {
   "cell_type": "code",
   "execution_count": 3,
   "metadata": {
    "ExecuteTime": {
     "end_time": "2019-07-09T03:10:53.906044Z",
     "start_time": "2019-07-09T03:10:53.895251Z"
    }
   },
   "outputs": [],
   "source": [
    "class Solution:\n",
    "    def lengthOfLongestSubstring(self, s: str) -> int:\n",
    "        used = {};\n",
    "        start = maxlength = 0;\n",
    "        for i,c in enumerate(s):\n",
    "            if c in used and start <= used[c]:\n",
    "                start = used[c] + 1;\n",
    "            else:\n",
    "                maxlength = max(maxlength,i-start+1);\n",
    "            used[c] = i;\n",
    "        return maxlength"
   ]
  },
  {
   "cell_type": "markdown",
   "metadata": {},
   "source": [
    "2. **Using deque**  \n",
    "Runtime: 56 ms, faster than 94.95% of Python3 online submissions for Longest Substring Without Repeating Characters.  \n",
    "Memory Usage: 13.1 MB, less than 90.07% of Python3 online submissions for Longest Substring Without Repeating Characters."
   ]
  },
  {
   "cell_type": "code",
   "execution_count": 2,
   "metadata": {
    "ExecuteTime": {
     "end_time": "2019-07-09T02:59:40.451063Z",
     "start_time": "2019-07-09T02:59:40.443371Z"
    }
   },
   "outputs": [],
   "source": [
    "from collections import deque\n",
    "class Solution:\n",
    "    def lengthOfLongestSubstring(self, s: str) -> int:\n",
    "        \"\"\"\n",
    "        :type s: str\n",
    "        :rtype: int\n",
    "        \"\"\"\n",
    "        chars = deque()\n",
    "        longest = 0\n",
    "        for c in s:\n",
    "            if c in chars:\n",
    "                longest = max(longest, len(chars))\n",
    "                while chars.popleft() != c:\n",
    "                    pass\n",
    "            chars.append(c)\n",
    "        \n",
    "        return max(longest, len(chars))"
   ]
  },
  {
   "cell_type": "markdown",
   "metadata": {},
   "source": [
    "总结：  \n",
    "- `used = {}`：字典的构建，可利用`used[c]`进行关键词索引。  \n",
    "- `from collections import deque`：队列和栈结构使用。 deque 除了实现 list 的 `append()` 和 `pop()` 外，还支持 `appendleft()` 和 `popleft()` ，这样就可以非常高效地往头部添加或删除元素。  \n",
    "-  `pass`：空语句，为了保持程序结构的完整性。除了方法2中用于条件循环，还可以作用于占据空函数的一个位置，因为如果定义一个空函数程序会报错，当没有想好函数的内容时可以用 pass 填充，使程序可以正常运行。"
   ]
  }
 ],
 "metadata": {
  "kernelspec": {
   "display_name": "Python 3",
   "language": "python",
   "name": "python3"
  },
  "language_info": {
   "codemirror_mode": {
    "name": "ipython",
    "version": 3
   },
   "file_extension": ".py",
   "mimetype": "text/x-python",
   "name": "python",
   "nbconvert_exporter": "python",
   "pygments_lexer": "ipython3",
   "version": "3.7.1"
  },
  "toc": {
   "base_numbering": 1,
   "nav_menu": {},
   "number_sections": false,
   "sideBar": true,
   "skip_h1_title": false,
   "title_cell": "Table of Contents",
   "title_sidebar": "Contents",
   "toc_cell": false,
   "toc_position": {},
   "toc_section_display": true,
   "toc_window_display": false
  },
  "varInspector": {
   "cols": {
    "lenName": 16,
    "lenType": 16,
    "lenVar": 40
   },
   "kernels_config": {
    "python": {
     "delete_cmd_postfix": "",
     "delete_cmd_prefix": "del ",
     "library": "var_list.py",
     "varRefreshCmd": "print(var_dic_list())"
    },
    "r": {
     "delete_cmd_postfix": ") ",
     "delete_cmd_prefix": "rm(",
     "library": "var_list.r",
     "varRefreshCmd": "cat(var_dic_list()) "
    }
   },
   "types_to_exclude": [
    "module",
    "function",
    "builtin_function_or_method",
    "instance",
    "_Feature"
   ],
   "window_display": false
  }
 },
 "nbformat": 4,
 "nbformat_minor": 2
}
