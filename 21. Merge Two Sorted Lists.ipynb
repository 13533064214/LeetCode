{
 "cells": [
  {
   "cell_type": "markdown",
   "metadata": {},
   "source": [
    "## 21. Merge Two Sorted Lists"
   ]
  },
  {
   "cell_type": "markdown",
   "metadata": {},
   "source": [
    "Merge two sorted linked lists and return it as a new list. The new list should be made by splicing together the nodes of the first two lists.\n",
    "\n",
    "Example:   \n",
    "Input: 1->2->4, 1->3->4  \n",
    "Output: 1->1->2->3->4->4  "
   ]
  },
  {
   "cell_type": "markdown",
   "metadata": {},
   "source": [
    "1. **iteratively**\n",
    "\n",
    "Runtime: 44 ms, faster than 88.26% of Python3 online submissions for Merge Two Sorted Lists.  \n",
    "Memory Usage: 13.1 MB, less than 5.06% of Python3 online submissions for Merge Two Sorted Lists."
   ]
  },
  {
   "cell_type": "code",
   "execution_count": 3,
   "metadata": {
    "ExecuteTime": {
     "end_time": "2019-04-20T10:55:52.350688Z",
     "start_time": "2019-04-20T10:55:52.343706Z"
    }
   },
   "outputs": [],
   "source": [
    "# Definition for singly-linked list.\n",
    "# class ListNode:\n",
    "#     def __init__(self, x):\n",
    "#         self.val = x\n",
    "#         self.next = None\n",
    "\n",
    "class Solution:\n",
    "    def mergeTwoLists(self, l1, l2):\n",
    "        # mergeTwoLists(self, l1: ListNode, l2: ListNode) -> ListNode\n",
    "        dummy = cur = ListNode(0)\n",
    "        while l1 and l2:\n",
    "            if l1.val < l2.val:\n",
    "                cur.next = l1\n",
    "                l1 = l1.next\n",
    "            else:\n",
    "                cur.next = l2\n",
    "                l2 = l2.next\n",
    "            cur = cur.next\n",
    "        cur.next = l1 or l2\n",
    "        return dummy.next"
   ]
  },
  {
   "cell_type": "markdown",
   "metadata": {},
   "source": [
    "2. **recursively**  \n",
    "\n",
    "Runtime: 44 ms, faster than 88.26% of Python3 online submissions for Merge Two Sorted Lists.  \n",
    "Memory Usage: 13.2 MB, less than 5.06% of Python3 online submissions for Merge Two Sorted Lists."
   ]
  },
  {
   "cell_type": "code",
   "execution_count": 4,
   "metadata": {
    "ExecuteTime": {
     "end_time": "2019-04-20T11:19:07.997324Z",
     "start_time": "2019-04-20T11:19:07.985354Z"
    }
   },
   "outputs": [],
   "source": [
    "# Definition for singly-linked list.\n",
    "# class ListNode:\n",
    "#     def __init__(self, x):\n",
    "#         self.val = x\n",
    "#         self.next = None\n",
    "\n",
    "class Solution:\n",
    "    def mergeTwoLists(self, l1, l2):\n",
    "        # mergeTwoLists(self, l1: ListNode, l2: ListNode) -> ListNode\n",
    "        if not l1 or not l2:\n",
    "            return l1 or l2\n",
    "        if l1.val < l2.val:\n",
    "            l1.next = self.mergeTwoLists(l1.next, l2)\n",
    "            return l1\n",
    "        else:\n",
    "            l2.next = self.mergeTwoLists(l1, l2.next)\n",
    "            return l2"
   ]
  },
  {
   "cell_type": "code",
   "execution_count": 7,
   "metadata": {
    "ExecuteTime": {
     "end_time": "2019-04-20T13:40:49.639221Z",
     "start_time": "2019-04-20T13:40:49.630470Z"
    }
   },
   "outputs": [],
   "source": [
    "# Definition for singly-linked list.\n",
    "# class ListNode:\n",
    "#     def __init__(self, x):\n",
    "#         self.val = x\n",
    "#         self.next = None\n",
    "\n",
    "class Solution:\n",
    "    def mergeTwoLists(self, l1, l2):\n",
    "        # mergeTwoLists(self, l1: ListNode, l2: ListNode) -> ListNode\n",
    "        if l1 and l2:\n",
    "            if l1.val > l2.val:\n",
    "                l1, l2 = l2, l1\n",
    "            l1.next = self.mergeTwoLists(l1.next, l2)\n",
    "        return l1 or l2"
   ]
  },
  {
   "cell_type": "markdown",
   "metadata": {
    "ExecuteTime": {
     "end_time": "2019-04-20T12:11:49.875182Z",
     "start_time": "2019-04-20T12:11:49.866595Z"
    }
   },
   "source": [
    "3. **in-place and iteratively**\n",
    "\n",
    "Runtime: 44 ms, faster than 88.26% of Python3 online submissions for Merge Two Sorted Lists.  \n",
    "Memory Usage: 13.1 MB, less than 5.06% of Python3 online submissions for Merge Two Sorted Lists."
   ]
  },
  {
   "cell_type": "code",
   "execution_count": 6,
   "metadata": {
    "ExecuteTime": {
     "end_time": "2019-04-20T12:12:22.513702Z",
     "start_time": "2019-04-20T12:12:22.497745Z"
    }
   },
   "outputs": [],
   "source": [
    "# Definition for singly-linked list.\n",
    "# class ListNode:\n",
    "#     def __init__(self, x):\n",
    "#         self.val = x\n",
    "#         self.next = None\n",
    "\n",
    "class Solution:\n",
    "    def mergeTwoLists(self, l1, l2):\n",
    "        # mergeTwoLists(self, l1: ListNode, l2: ListNode) -> ListNode\n",
    "        if None in (l1, l2):\n",
    "            return l1 or l2\n",
    "        dummy = cur = ListNode(0)\n",
    "        dummy.next = l1\n",
    "        while l1 and l2:\n",
    "            if l1.val < l2.val:\n",
    "                l1 = l1.next\n",
    "            else:\n",
    "                nxt = cur.next\n",
    "                cur.next = l2\n",
    "                tmp = l2.next\n",
    "                l2.next = nxt\n",
    "                l2 = tmp\n",
    "            cur = cur.next\n",
    "        cur.next = l1 or l2\n",
    "        return dummy.next"
   ]
  },
  {
   "cell_type": "markdown",
   "metadata": {},
   "source": [
    "总结：  \n",
    "- 链表的运用：不妨先用ListNode(0)创建值为0的链表头\n",
    "- 递归算法的运用"
   ]
  }
 ],
 "metadata": {
  "kernelspec": {
   "display_name": "Python 3",
   "language": "python",
   "name": "python3"
  },
  "language_info": {
   "codemirror_mode": {
    "name": "ipython",
    "version": 3
   },
   "file_extension": ".py",
   "mimetype": "text/x-python",
   "name": "python",
   "nbconvert_exporter": "python",
   "pygments_lexer": "ipython3",
   "version": "3.7.1"
  },
  "toc": {
   "base_numbering": 1,
   "nav_menu": {},
   "number_sections": false,
   "sideBar": true,
   "skip_h1_title": false,
   "title_cell": "Table of Contents",
   "title_sidebar": "Contents",
   "toc_cell": false,
   "toc_position": {},
   "toc_section_display": true,
   "toc_window_display": false
  },
  "varInspector": {
   "cols": {
    "lenName": 16,
    "lenType": 16,
    "lenVar": 40
   },
   "kernels_config": {
    "python": {
     "delete_cmd_postfix": "",
     "delete_cmd_prefix": "del ",
     "library": "var_list.py",
     "varRefreshCmd": "print(var_dic_list())"
    },
    "r": {
     "delete_cmd_postfix": ") ",
     "delete_cmd_prefix": "rm(",
     "library": "var_list.r",
     "varRefreshCmd": "cat(var_dic_list()) "
    }
   },
   "types_to_exclude": [
    "module",
    "function",
    "builtin_function_or_method",
    "instance",
    "_Feature"
   ],
   "window_display": false
  }
 },
 "nbformat": 4,
 "nbformat_minor": 2
}
