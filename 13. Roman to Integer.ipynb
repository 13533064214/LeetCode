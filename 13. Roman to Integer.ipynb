{
 "cells": [
  {
   "cell_type": "markdown",
   "metadata": {},
   "source": [
    "## 13. Roman to Integer"
   ]
  },
  {
   "cell_type": "markdown",
   "metadata": {},
   "source": [
    "Roman numerals are represented by seven different symbols: I, V, X, L, C, D and M.\n",
    "\n",
    "Symbol       Value  \n",
    "I             1  \n",
    "V             5  \n",
    "X             10  \n",
    "L             50  \n",
    "C             100  \n",
    "D             500  \n",
    "M             1000  \n",
    "\n",
    "For example, two is written as II in Roman numeral, just two one's added together. Twelve is written as, XII, which is simply X + II. The number twenty seven is written as XXVII, which is XX + V + II.  \n",
    "Roman numerals are usually written largest to smallest from left to right. However, the numeral for four is not IIII. Instead, the number four is written as IV. Because the one is before the five we subtract it making four. The same principle applies to the number nine, which is written as IX. There are six instances where subtraction is used:  \n",
    "- I can be placed before V (5) and X (10) to make 4 and 9.  \n",
    "- X can be placed before L (50) and C (100) to make 40 and 90.  \n",
    "- C can be placed before D (500) and M (1000) to make 400 and 900.  \n",
    "\n",
    "Given a roman numeral, convert it to an integer. Input is guaranteed to be within the range from 1 to 3999.  \n",
    "\n",
    "Example 1:  \n",
    "Input: \"III\"  \n",
    "Output: 3  \n",
    "\n",
    "Example 2:  \n",
    "Input: \"IV\"  \n",
    "Output: 4  \n",
    "\n",
    "Example 3:  \n",
    "Input: \"IX\"  \n",
    "Output: 9  \n",
    "\n",
    "Example 4:  \n",
    "Input: \"LVIII\"  \n",
    "Output: 58  \n",
    "Explanation: L = 50, V= 5, III = 3.  \n",
    "\n",
    "Example 5:  \n",
    "Input: \"MCMXCIV\"  \n",
    "Output: 1994  \n",
    "Explanation: M = 1000, CM = 900, XC = 90 and IV = 4."
   ]
  },
  {
   "cell_type": "markdown",
   "metadata": {},
   "source": [
    "1. **The last letter is always added. Except the last one, if one letter is less than its latter one, this letter is subtracted; Otherwise this letter is added.**\n",
    "\n",
    "Runtime: 116 ms, faster than 99.02% of Python3 online submissions for Roman to Integer.  \n",
    "Memory Usage: 6.9 MB, less than 94.68% of Python3 online submissions for Roman to Integer.  "
   ]
  },
  {
   "cell_type": "code",
   "execution_count": null,
   "metadata": {
    "ExecuteTime": {
     "end_time": "2019-01-30T03:41:42.339647Z",
     "start_time": "2019-01-30T03:41:42.332629Z"
    }
   },
   "outputs": [],
   "source": [
    "class Solution:\n",
    "    def romanToInt(self, s):\n",
    "        \"\"\"\n",
    "        :type s: str\n",
    "        :rtype: int\n",
    "        \"\"\"\n",
    "        roman = {'M': 1000,'D': 500 ,'C': 100,'L': 50,'X': 10,'V': 5,'I': 1}\n",
    "        z = 0\n",
    "        for i in range(0, len(s) - 1):\n",
    "            if roman[s[i]] < roman[s[i+1]]:\n",
    "                z -= roman[s[i]]\n",
    "            else:\n",
    "                z += roman[s[i]]\n",
    "        return z + roman[s[-1]]"
   ]
  },
  {
   "cell_type": "markdown",
   "metadata": {},
   "source": [
    "2. **Reverse the string and use the similar method backward.**  \n",
    "\n",
    "Runtime: 116 ms, faster than 99.02% of Python3 online submissions for Roman to Integer.  \n",
    "Memory Usage: 6.9 MB, less than 38.56% of Python3 online submissions for Roman to Integer."
   ]
  },
  {
   "cell_type": "code",
   "execution_count": null,
   "metadata": {
    "ExecuteTime": {
     "end_time": "2019-01-30T03:41:47.643702Z",
     "start_time": "2019-01-30T03:41:47.638690Z"
    }
   },
   "outputs": [],
   "source": [
    "class Solution:\n",
    "    def romanToInt(self, s):\n",
    "        \"\"\"\n",
    "        :type s: str\n",
    "        :rtype: int\n",
    "        \"\"\"\n",
    "        roman = {'I': 1, 'V': 5, 'X': 10, 'L': 50, 'C': 100, 'D': 500, 'M': 1000}\n",
    "        z = roman[s[-1]]\n",
    "        for i in reversed(range(len(s) - 1)):\n",
    "            z += (-roman[s[i]] if roman[s[i]] < roman[s[i + 1]] else roman[s[i]])\n",
    "        return z"
   ]
  },
  {
   "cell_type": "markdown",
   "metadata": {},
   "source": [
    "3. **Define all the combination first. It is easier to ask for forgiveness than permission**  \n",
    "\n",
    "Runtime: 136 ms, faster than 30.75% of Python3 online submissions for Roman to Integer.  \n",
    "Memory Usage: 6.9 MB, less than 56.38% of Python3 online submissions for Roman to Integer."
   ]
  },
  {
   "cell_type": "code",
   "execution_count": null,
   "metadata": {
    "ExecuteTime": {
     "end_time": "2019-01-30T03:41:50.672806Z",
     "start_time": "2019-01-30T03:41:50.662780Z"
    }
   },
   "outputs": [],
   "source": [
    "class Solution:\n",
    "    def romanToInt(self, s):\n",
    "        \"\"\"\n",
    "        :type s: str\n",
    "        :rtype: int\n",
    "        \"\"\"\n",
    "        roman = {\n",
    "            'I': 1,\n",
    "            'IV': 4,\n",
    "            'V': 5,\n",
    "            'IX': 9,\n",
    "            'X': 10,\n",
    "            'XL': 40,\n",
    "            'L': 50,\n",
    "            'XC': 90,\n",
    "            'C': 100,\n",
    "            'CD': 400,\n",
    "            'D': 500,\n",
    "            'CM': 900,\n",
    "            'M': 1000\n",
    "        }\n",
    "        z, i = 0, 0\n",
    "        while i < len(s):\n",
    "            try:\n",
    "                z += roman[s[i] + s[i + 1]]\n",
    "                i += 2\n",
    "            except (KeyError, IndexError):\n",
    "                z += roman[s[i]]\n",
    "                i += 1\n",
    "        return z"
   ]
  },
  {
   "cell_type": "markdown",
   "metadata": {},
   "source": [
    "总结：  \n",
    "- 字典的使用，例如 roman = {'M': 1000,'D': 500 ,'C': 100,'L': 50,'X': 10,'V': 5,'I': 1}  \n",
    "- `reversed()`函数：返回一个反转的迭代器。迭代器的意思是只能通过循环来输出，即需要通过遍历，或者list,或者next()等方法，获取作用后的值。例如方法二中使用循环 for i in reversed(range(len(s) - 1)) 来输出该迭代器。  \n",
    "`reverse()`函数：直接返回反转的列表。注意两者的区别。\n",
    "- `try...except...`：我们把可能发生错误的语句放在try模块里，用except来处理异常。except可以处理一个专门的异常，也可以处理一组圆括号中的异常，如果except后没有指定异常，则默认处理所有的异常。每一个try，都必须至少有一个except。  \n",
    "try/except/else/finally 语句的完整格式如下所示：  \n",
    "try:  Normal execution block  \n",
    "except A:  Exception A handle  \n",
    "except B:  Exception B handle  \n",
    "except:  Other exception handle  \n",
    "else:  if no exception,get here  \n",
    "finally:  print(\"finally\")  \n",
    "说明：  \n",
    "正常执行的程序在try下面的Normal execution block执行块中执行，在执行过程中如果发生了异常，则中断当前在Normal execution block中的执行，跳转到对应的异常处理块中开始执行；  \n",
    "python从第一个except X处开始查找，如果找到了对应的exception类型则进入其提供的exception handle中进行处理，如果没有找到则直接进入except块处进行处理。except块是可选项，如果没有提供，该exception将会被提交给python进行默认处理，处理方式则是终止应用程序并打印提示信息；  \n",
    "如果在Normal execution block执行块中执行过程中没有发生任何异常，则在执行完Normal execution block后会进入else执行块中（如果存在的话）执行。  \n",
    "无论是否发生了异常，只要提供了finally语句，以上try/except/else/finally代码块执行的最后一步总是执行finally所对应的代码块。  \n",
    "需要注意：  \n",
    "1.在上面所示的完整语句中try/except/else/finally所出现的顺序必须是try-->except X-->except-->else-->finally，即所有的except必须在else和finally之前，else（如果有的话）必须在finally之前，而except X必须在except之前。否则会出现语法错误。  \n",
    "2.对于上面所展示的try/except完整格式而言，else和finally都是可选的，而不是必须的，但是如果存在的话else必须在finally之前，finally（如果存在的话）必须在整个语句的最后位置。  \n",
    "3.在上面的完整语句中，else语句的存在必须以except X或者except语句为前提，如果在没有except语句的try block中使用else语句会引发语法错误。也就是说else不能与try/finally配合使用。"
   ]
  },
  {
   "cell_type": "code",
   "execution_count": null,
   "metadata": {},
   "outputs": [],
   "source": []
  }
 ],
 "metadata": {
  "kernelspec": {
   "display_name": "Python 3",
   "language": "python",
   "name": "python3"
  },
  "language_info": {
   "codemirror_mode": {
    "name": "ipython",
    "version": 3
   },
   "file_extension": ".py",
   "mimetype": "text/x-python",
   "name": "python",
   "nbconvert_exporter": "python",
   "pygments_lexer": "ipython3",
   "version": "3.6.6"
  },
  "toc": {
   "base_numbering": 1,
   "nav_menu": {},
   "number_sections": false,
   "sideBar": true,
   "skip_h1_title": false,
   "title_cell": "Table of Contents",
   "title_sidebar": "Contents",
   "toc_cell": false,
   "toc_position": {},
   "toc_section_display": true,
   "toc_window_display": false
  },
  "varInspector": {
   "cols": {
    "lenName": 16,
    "lenType": 16,
    "lenVar": 40
   },
   "kernels_config": {
    "python": {
     "delete_cmd_postfix": "",
     "delete_cmd_prefix": "del ",
     "library": "var_list.py",
     "varRefreshCmd": "print(var_dic_list())"
    },
    "r": {
     "delete_cmd_postfix": ") ",
     "delete_cmd_prefix": "rm(",
     "library": "var_list.r",
     "varRefreshCmd": "cat(var_dic_list()) "
    }
   },
   "types_to_exclude": [
    "module",
    "function",
    "builtin_function_or_method",
    "instance",
    "_Feature"
   ],
   "window_display": false
  }
 },
 "nbformat": 4,
 "nbformat_minor": 2
}
