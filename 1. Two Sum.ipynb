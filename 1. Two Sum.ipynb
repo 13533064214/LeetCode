{
 "cells": [
  {
   "cell_type": "markdown",
   "metadata": {},
   "source": [
    "# 1. Two Sum"
   ]
  },
  {
   "cell_type": "markdown",
   "metadata": {},
   "source": [
    "Given an array of integers, return **indices** of the two numbers such that they add up to a specific target.  \n",
    "You may assume that each input would have exactly one solution, and you may not use the same element twice.  \n",
    "  \n",
    "Example:  \n",
    "Given nums = [2, 7, 11, 15], target = 9,  \n",
    "Because nums[0] + nums[1] = 2 + 7 = 9,  \n",
    "return [0, 1]."
   ]
  },
  {
   "cell_type": "markdown",
   "metadata": {},
   "source": [
    "1. 暴力计算，两重循环，复杂度O(n^2)  \n",
    "Runtime = 7116 ms"
   ]
  },
  {
   "cell_type": "code",
   "execution_count": 1,
   "metadata": {},
   "outputs": [],
   "source": [
    "class Solution:\n",
    "    def twoSum(self, nums, target):\n",
    "        \"\"\"\n",
    "        :type nums: List[int]\n",
    "        :type target: int\n",
    "        :rtype: List[int]\n",
    "        \"\"\"\n",
    "        for i in range(len(nums) - 1):\n",
    "            for j in range(i + 1, len(nums)):\n",
    "                if nums[i] + nums[j] == target:\n",
    "                    return [i, j]\n",
    "        return []"
   ]
  },
  {
   "cell_type": "code",
   "execution_count": 16,
   "metadata": {},
   "outputs": [
    {
     "name": "stdout",
     "output_type": "stream",
     "text": [
      "[0, 2]\n",
      "[1, 3]\n",
      "[]\n"
     ]
    }
   ],
   "source": [
    "S = Solution()\n",
    "print(S.twoSum([4,2,1,3],5))\n",
    "print(S.twoSum([1,2,4,2],4))\n",
    "print(S.twoSum([1,2,3,4],8))"
   ]
  },
  {
   "cell_type": "markdown",
   "metadata": {},
   "source": [
    "2. 直接在list上操作，游标前后割成两部分  \n",
    "Runtime = 1432 ms"
   ]
  },
  {
   "cell_type": "code",
   "execution_count": 17,
   "metadata": {},
   "outputs": [],
   "source": [
    "class Solution:\n",
    "    def twoSum(self, nums, target):\n",
    "        \"\"\"\n",
    "        :type nums: List[int]\n",
    "        :type target: int\n",
    "        :rtype: List[int]\n",
    "        \"\"\"\n",
    "        for i, num in enumerate(nums): # 使用enumerate函数同时取得index和value\n",
    "            if target - num in nums[i + 1:]:\n",
    "                return [i, nums[i + 1:].index(target - num) + i + 1]\n",
    "        return []"
   ]
  },
  {
   "cell_type": "code",
   "execution_count": 18,
   "metadata": {},
   "outputs": [
    {
     "name": "stdout",
     "output_type": "stream",
     "text": [
      "[0, 2]\n",
      "[1, 3]\n",
      "[]\n"
     ]
    }
   ],
   "source": [
    "S = Solution()\n",
    "print(S.twoSum([4,2,1,3],5))\n",
    "print(S.twoSum([1,2,4,2],4))\n",
    "print(S.twoSum([1,2,3,4],8))"
   ]
  },
  {
   "cell_type": "markdown",
   "metadata": {},
   "source": [
    "3. 利用Hash表  \n",
    "Runtime = 44 ms"
   ]
  },
  {
   "cell_type": "code",
   "execution_count": 21,
   "metadata": {},
   "outputs": [],
   "source": [
    "class Solution:\n",
    "    def twoSum(self, nums, target):\n",
    "        \"\"\"\n",
    "        :type nums: List[int]\n",
    "        :type target: int\n",
    "        :rtype: List[int]\n",
    "        \"\"\"\n",
    "        store = dict() # 字典\n",
    "        for i in range(len(nums)):\n",
    "            search = target - nums[i]\n",
    "            if search in store:\n",
    "                return [store[search],i]\n",
    "            else:\n",
    "                store[nums[i]] = i \n",
    "        return []"
   ]
  },
  {
   "cell_type": "code",
   "execution_count": 22,
   "metadata": {},
   "outputs": [
    {
     "name": "stdout",
     "output_type": "stream",
     "text": [
      "[0, 2]\n",
      "[1, 3]\n",
      "[]\n"
     ]
    }
   ],
   "source": [
    "S = Solution()\n",
    "print(S.twoSum([4,2,1,3],5))\n",
    "print(S.twoSum([1,2,4,2],4))\n",
    "print(S.twoSum([1,2,3,4],8))"
   ]
  },
  {
   "cell_type": "markdown",
   "metadata": {},
   "source": [
    "总结：  \n",
    "● self只有在类的方法中才会有，独立的函数或方法是不必带有self的  \n",
    "● 调用类里面函数的用法：C = 类名(), C.函数名(...)  \n",
    "● 在同时需要用到index和value值的时候可以用到函数enumerate，参数为可遍历的变量，如字符串，列表等，返回enumerate类。如方法二中的 for i, num in enumerate(nums)  \n",
    "● Hash表：哈希表，Hash table，也叫散列表，是根据关键码值(Key value)而直接进行访问的数据结构。也就是说，它通过把关键码值映射到表中一个位置来访问记录，以加快查找的速度。这个映射函数叫做散列函数，存放记录的数组叫做散列表。  \n",
    "数组的特点是：寻址容易，插入和删除困难；  \n",
    "而链表的特点是：寻址困难，插入和删除容易。  \n",
    "综合两者的特性，做出一种寻址容易，插入删除也容易的数据结构，就是哈希表。  \n",
    "**优点**：不论哈希表中有多少数据，查找、插入、删除（有时包括删除）只需要接近常量的时间即0(1）的时间级。实际上，这只需要几条机器指令。  \n",
    "哈希表运算得非常快，在计算机程序中，如果需要在一秒种内查找上千条记录通常使用哈希表（例如拼写检查器)哈希表的速度明显比树快，树的操作通常需要O(N)的时间级。哈希表不仅速度快，编程实现也相对容易。  \n",
    "如果不需要有序遍历数据，并且可以提前预测数据量的大小。那么哈希表在速度和易用性方面是无与伦比的。  \n",
    "**缺点**：它是基于数组的，数组创建后难于扩展，某些哈希表被基本填满时，性能下降得非常严重，所以程序员必须要清楚表中将要存储多少数据（或者准备好定期地把数据转移到更大的哈希表中，这是个费时的过程）。"
   ]
  }
 ],
 "metadata": {
  "kernelspec": {
   "display_name": "Python 3",
   "language": "python",
   "name": "python3"
  },
  "language_info": {
   "codemirror_mode": {
    "name": "ipython",
    "version": 3
   },
   "file_extension": ".py",
   "mimetype": "text/x-python",
   "name": "python",
   "nbconvert_exporter": "python",
   "pygments_lexer": "ipython3",
   "version": "3.5.2"
  }
 },
 "nbformat": 4,
 "nbformat_minor": 2
}
