{
 "cells": [
  {
   "cell_type": "markdown",
   "metadata": {},
   "source": [
    "# 2. Add Two Numbers"
   ]
  },
  {
   "cell_type": "markdown",
   "metadata": {},
   "source": [
    "You are given two **non-empty** linked lists representing two non-negative integers. The digits are stored in **reverse order** and each of their nodes contain a single digit. Add the two numbers and return it as a linked list.  \n",
    "You may assume the two numbers do not contain any leading zero, except the number 0 itself.  \n",
    "\n",
    "Example:  \n",
    "Input: (2 -> 4 -> 3) + (5 -> 6 -> 4)  \n",
    "Output: 7 -> 0 -> 8  \n",
    "Explanation: 342 + 465 = 807.  "
   ]
  },
  {
   "cell_type": "markdown",
   "metadata": {},
   "source": [
    "1. Set carry to decide whether we should add 1 in the next digit. Directly operate on two lists.  \n",
    "Runtime = 168 ms"
   ]
  },
  {
   "cell_type": "code",
   "execution_count": 1,
   "metadata": {},
   "outputs": [],
   "source": [
    "# Definition for singly-linked list.\n",
    "# class ListNode:\n",
    "#     def __init__(self, x):\n",
    "#         self.val = x\n",
    "#         self.next = None\n",
    "\n",
    "class Solution:\n",
    "    def addTwoNumbers(self, l1, l2):\n",
    "        \"\"\"\n",
    "        :type l1: ListNode\n",
    "        :type l2: ListNode\n",
    "        :rtype: ListNode\n",
    "        \"\"\"\n",
    "        dummy = cur = ListNode(0)\n",
    "        carry = 0\n",
    "        while l1 or l2 or carry:\n",
    "            if l1:\n",
    "                carry += l1.val\n",
    "                l1 = l1.next\n",
    "            if l2:\n",
    "                carry += l2.val\n",
    "                l2 = l2.next\n",
    "            cur.next = ListNode(carry%10)\n",
    "            cur = cur.next\n",
    "            carry //= 10\n",
    "        return dummy.next"
   ]
  },
  {
   "cell_type": "markdown",
   "metadata": {},
   "source": [
    "2. Python supports arbitrarily large integers, so we can safely turn the two lists into ints, add them, and turn the sum into a list. This is a recursive method.  \n",
    "Runtime = 264 ms"
   ]
  },
  {
   "cell_type": "code",
   "execution_count": 2,
   "metadata": {},
   "outputs": [],
   "source": [
    "# Definition for singly-linked list.\n",
    "# class ListNode:\n",
    "#     def __init__(self, x):\n",
    "#         self.val = x\n",
    "#         self.next = None\n",
    "\n",
    "class Solution:\n",
    "    def addTwoNumbers(self, l1, l2):\n",
    "        \"\"\"\n",
    "        :type l1: ListNode\n",
    "        :type l2: ListNode\n",
    "        :rtype: ListNode\n",
    "        \"\"\"\n",
    "        def toint(node):\n",
    "            return node.val + 10 * toint(node.next) if node else 0\n",
    "        def tolist(n):\n",
    "            node = ListNode(n % 10)\n",
    "            if n > 9:\n",
    "                node.next = tolist(n // 10)\n",
    "            return node\n",
    "        return tolist(toint(l1) + toint(l2))"
   ]
  },
  {
   "cell_type": "markdown",
   "metadata": {},
   "source": [
    "3. Iterative tolist instead of recursive.  \n",
    "Runtime = 172 ms"
   ]
  },
  {
   "cell_type": "code",
   "execution_count": 3,
   "metadata": {},
   "outputs": [],
   "source": [
    "# Definition for singly-linked list.\n",
    "# class ListNode:\n",
    "#     def __init__(self, x):\n",
    "#         self.val = x\n",
    "#         self.next = None\n",
    "\n",
    "class Solution:\n",
    "    def addTwoNumbers(self, l1, l2):\n",
    "        \"\"\"\n",
    "        :type l1: ListNode\n",
    "        :type l2: ListNode\n",
    "        :rtype: ListNode\n",
    "        \"\"\"\n",
    "        def toint(node):\n",
    "            return node.val + 10 * toint(node.next) if node else 0\n",
    "        n = toint(l1) + toint(l2)\n",
    "        first = last = ListNode(n % 10)\n",
    "        while n > 9:\n",
    "            n //= 10\n",
    "            last.next = last = ListNode(n % 10)\n",
    "        return first"
   ]
  },
  {
   "cell_type": "markdown",
   "metadata": {},
   "source": [
    "4. A very different solution that could sum arbitrarily many addends, not just two.  \n",
    "Runtime = 228 ms"
   ]
  },
  {
   "cell_type": "code",
   "execution_count": 4,
   "metadata": {},
   "outputs": [],
   "source": [
    "# Definition for singly-linked list.\n",
    "# class ListNode:\n",
    "#     def __init__(self, x):\n",
    "#         self.val = x\n",
    "#         self.next = None\n",
    "\n",
    "class Solution:\n",
    "    def addTwoNumbers(self, l1, l2):\n",
    "        \"\"\"\n",
    "        :type l1: ListNode\n",
    "        :type l2: ListNode\n",
    "        :rtype: ListNode\n",
    "        \"\"\"\n",
    "        addends = l1, l2\n",
    "        dummy = end = ListNode(0)\n",
    "        carry = 0\n",
    "        while addends or carry:\n",
    "            carry += sum(a.val for a in addends)\n",
    "            addends = [a.next for a in addends if a.next]\n",
    "            end.next = end = ListNode(carry % 10)\n",
    "            carry //= 10\n",
    "        return dummy.next"
   ]
  },
  {
   "cell_type": "markdown",
   "metadata": {},
   "source": [
    "总结：  \n",
    "● ListNode(val)：把val存入节点  \n",
    "node.val：节点的值  \n",
    "node.next：指向下一个节点  \n",
    "● tolist()：将数组或者矩阵转换成列表，但是在这里tolist和toint是自定义的递归函数  \n",
    "● 留意方法四中 a.val **for** a **in** list 的用法  \n",
    "● 求余符号 %，被除取整符号 //  \n",
    "● 熟悉ListNode格式的用法"
   ]
  }
 ],
 "metadata": {
  "kernelspec": {
   "display_name": "Python 3",
   "language": "python",
   "name": "python3"
  },
  "language_info": {
   "codemirror_mode": {
    "name": "ipython",
    "version": 3
   },
   "file_extension": ".py",
   "mimetype": "text/x-python",
   "name": "python",
   "nbconvert_exporter": "python",
   "pygments_lexer": "ipython3",
   "version": "3.5.2"
  }
 },
 "nbformat": 4,
 "nbformat_minor": 2
}
