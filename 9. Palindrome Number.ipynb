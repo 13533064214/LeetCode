{
 "cells": [
  {
   "cell_type": "markdown",
   "metadata": {},
   "source": [
    "## 9. Palindrome Number"
   ]
  },
  {
   "cell_type": "markdown",
   "metadata": {},
   "source": [
    "Determine whether an integer is a palindrome. An integer is a palindrome when it reads the same backward as forward.\n",
    "\n",
    "Example 1:  \n",
    "Input: 121  \n",
    "Output: true\n",
    "\n",
    "Example 2:  \n",
    "Input: -121  \n",
    "Output: false  \n",
    "Explanation: From left to right, it reads -121. From right to left, it becomes 121-. Therefore it is not a palindrome.\n",
    "\n",
    "Example 3:  \n",
    "Input: 10  \n",
    "Output: false  \n",
    "Explanation: Reads 01 from right to left. Therefore it is not a palindrome.  "
   ]
  },
  {
   "cell_type": "markdown",
   "metadata": {},
   "source": [
    "1. Convert input to a string   \n",
    "Runtime = 236 ms / 388 ms"
   ]
  },
  {
   "cell_type": "code",
   "execution_count": 7,
   "metadata": {
    "ExecuteTime": {
     "end_time": "2019-01-30T03:41:42.339647Z",
     "start_time": "2019-01-30T03:41:42.332629Z"
    }
   },
   "outputs": [],
   "source": [
    "class Solution:\n",
    "    def isPalindrome(self, x):\n",
    "        \"\"\"\n",
    "        :type x: int\n",
    "        :rtype: bool\n",
    "        \"\"\"\n",
    "        if x < 0:\n",
    "            return False\n",
    "        original_x = x\n",
    "        x = int(str(x)[::-1])\n",
    "        return True if x == original_x else False"
   ]
  },
  {
   "cell_type": "code",
   "execution_count": 8,
   "metadata": {
    "ExecuteTime": {
     "end_time": "2019-01-30T03:41:44.136757Z",
     "start_time": "2019-01-30T03:41:44.131746Z"
    }
   },
   "outputs": [],
   "source": [
    "# In one line \n",
    "class Solution:\n",
    "    def isPalindrome(self, x):\n",
    "        \"\"\"\n",
    "        :type x: int\n",
    "        :rtype: bool\n",
    "        \"\"\"\n",
    "        return x >= 0 and x == int(str(x)[::-1])"
   ]
  },
  {
   "cell_type": "markdown",
   "metadata": {},
   "source": [
    "2. Reverse the number via '%' and '/'. See if it is equal to the original number.  \n",
    "Runtime = 412 ms"
   ]
  },
  {
   "cell_type": "code",
   "execution_count": 9,
   "metadata": {
    "ExecuteTime": {
     "end_time": "2019-01-30T03:41:47.643702Z",
     "start_time": "2019-01-30T03:41:47.638690Z"
    }
   },
   "outputs": [],
   "source": [
    "class Solution:\n",
    "    def isPalindrome(self, x):\n",
    "        \"\"\"\n",
    "        :type x: int\n",
    "        :rtype: bool\n",
    "        \"\"\"\n",
    "        if x < 0:\n",
    "            return False\n",
    "        p, res = x, 0\n",
    "        while p:\n",
    "            res = res * 10 + p % 10\n",
    "            p = int(p/10)\n",
    "        return res == x"
   ]
  },
  {
   "cell_type": "markdown",
   "metadata": {},
   "source": [
    "3. find the largest power of 10 which is smaller then x first. Then check if left most digit is equal to right most digit and so on. Compared with method 2, this method doesn't need extra variable to save the whole number.  \n",
    "Runtime = 272 ms"
   ]
  },
  {
   "cell_type": "code",
   "execution_count": 10,
   "metadata": {
    "ExecuteTime": {
     "end_time": "2019-01-30T03:41:50.672806Z",
     "start_time": "2019-01-30T03:41:50.662780Z"
    }
   },
   "outputs": [],
   "source": [
    "class Solution:\n",
    "    def isPalindrome(self, x):\n",
    "        \"\"\"\n",
    "        :type x: int\n",
    "        :rtype: bool\n",
    "        \"\"\"\n",
    "        if x < 0:\n",
    "            return False\n",
    "        if x == 0:\n",
    "            return True\n",
    "        n = int(math.log10(x)) + 1 # number of digits\n",
    "        if n == 1: # 1 digit\n",
    "            return True\n",
    "        mask = math.pow(10, n-1)\n",
    "        \n",
    "        for _ in range(int(n/2)):\n",
    "            lsb = x%10\n",
    "            msb = int(x/mask)\n",
    "            if lsb != msb:\n",
    "                return False\n",
    "            x%=mask\n",
    "            x = int(x/10)\n",
    "            mask/=100 # number is shortened by 2 digits\n",
    "            \n",
    "        return True"
   ]
  },
  {
   "cell_type": "markdown",
   "metadata": {},
   "source": [
    "总结：  \n",
    "- 整数倒转的一种简便方法是，转化为字符串后倒转再转化为整数：int(str(x)[::-1])  \n",
    "- 可以同时给多个变量赋值，例如方法二中的 p, res = x, 0  \n",
    "- `int(x)`函数是向零取整，例如int(2.6)=2，int(-3.4)=-3\n",
    "- math模块的部分常用函数  \n",
    "`log10(x)`：返回x的以10为底的对数  \n",
    "`log(x)`：返回x的自然对数，默认以e为基数  \n",
    "`pow(x,y)`：返回x的y次方  \n",
    "`pi`；圆周率常量  \n",
    "`e`：自然对数常量  \n",
    "`exp(x)`：返回math.e的x次方  \n",
    "`factorial`：取x的阶乘的值  \n",
    "`copysign(x,y)`：把y的正负号加到x前面，可以使用0  \n"
   ]
  }
 ],
 "metadata": {
  "kernelspec": {
   "display_name": "Python 3",
   "language": "python",
   "name": "python3"
  },
  "language_info": {
   "codemirror_mode": {
    "name": "ipython",
    "version": 3
   },
   "file_extension": ".py",
   "mimetype": "text/x-python",
   "name": "python",
   "nbconvert_exporter": "python",
   "pygments_lexer": "ipython3",
   "version": "3.6.6"
  },
  "toc": {
   "base_numbering": 1,
   "nav_menu": {},
   "number_sections": false,
   "sideBar": true,
   "skip_h1_title": false,
   "title_cell": "Table of Contents",
   "title_sidebar": "Contents",
   "toc_cell": false,
   "toc_position": {},
   "toc_section_display": true,
   "toc_window_display": false
  },
  "varInspector": {
   "cols": {
    "lenName": 16,
    "lenType": 16,
    "lenVar": 40
   },
   "kernels_config": {
    "python": {
     "delete_cmd_postfix": "",
     "delete_cmd_prefix": "del ",
     "library": "var_list.py",
     "varRefreshCmd": "print(var_dic_list())"
    },
    "r": {
     "delete_cmd_postfix": ") ",
     "delete_cmd_prefix": "rm(",
     "library": "var_list.r",
     "varRefreshCmd": "cat(var_dic_list()) "
    }
   },
   "types_to_exclude": [
    "module",
    "function",
    "builtin_function_or_method",
    "instance",
    "_Feature"
   ],
   "window_display": false
  }
 },
 "nbformat": 4,
 "nbformat_minor": 2
}
