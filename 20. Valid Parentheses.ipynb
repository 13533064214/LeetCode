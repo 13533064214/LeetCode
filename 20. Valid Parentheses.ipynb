{
 "cells": [
  {
   "cell_type": "markdown",
   "metadata": {},
   "source": [
    "## 20. Valid Parentheses"
   ]
  },
  {
   "cell_type": "markdown",
   "metadata": {},
   "source": [
    "Given a string containing just the characters '(', ')', '{', '}', '[' and ']', determine if the input string is valid.  \n",
    "An input string is valid if:  \n",
    "Open brackets must be closed by the same type of brackets.  \n",
    "Open brackets must be closed in the correct order.  \n",
    "Note that an empty string is also considered valid.\n",
    "\n",
    "Example 1:  \n",
    "Input: \"()\"  \n",
    "Output: true  \n",
    "Example 2:  \n",
    "Input: \"()[]{}\"  \n",
    "Output: true  \n",
    "Example 3:  \n",
    "Input: \"(]\"  \n",
    "Output: false  \n",
    "Example 4:  \n",
    "Input: \"([)]\"  \n",
    "Output: false  \n",
    "Example 5:  \n",
    "Input: \"{[]}\"  \n",
    "Output: true  "
   ]
  },
  {
   "cell_type": "markdown",
   "metadata": {},
   "source": [
    "1. **Use stacks:   \n",
    "Initialize a stack S.  \n",
    "Process each bracket of the expression one at a time.   \n",
    "If we encounter an opening bracket, we simply push it onto the stack. This means we will process it later, let us simply move onto the sub-expression ahead.  \n",
    "If we encounter a closing bracket, then we check the element on top of the stack. If the element at the top of the stack is an opening bracket of the same type, then we pop it off the stack and continue processing. Else, this implies an invalid expression.  \n",
    "In the end, if we are left with a stack still having elements, then this implies an invalid expression.**\n",
    "\n",
    "Runtime: 36 ms, faster than 87.33% of Python3 online submissions for Valid Parentheses.  \n",
    "Memory Usage: 13.3 MB, less than 5.22% of Python3 online submissions for Valid Parentheses.  "
   ]
  },
  {
   "cell_type": "code",
   "execution_count": 1,
   "metadata": {
    "ExecuteTime": {
     "end_time": "2019-04-19T07:25:32.972893Z",
     "start_time": "2019-04-19T07:25:32.963944Z"
    }
   },
   "outputs": [],
   "source": [
    "class Solution:\n",
    "    def isValid(self, s: str) -> bool:\n",
    "        stack = []\n",
    "        mapping = {\")\":\"(\",\n",
    "                   \"}\":\"{\",\n",
    "                   \"]\":\"[\"}\n",
    "        for char in s:\n",
    "            if char in mapping:\n",
    "                top_element = stack.pop() if stack else '#'\n",
    "                if  mapping[char] != top_element:\n",
    "                    return False\n",
    "            else:\n",
    "                stack.append(char)\n",
    "        return not stack"
   ]
  },
  {
   "cell_type": "markdown",
   "metadata": {},
   "source": [
    "2. **Directly replace a pair of brackets with null iteratively. Anything left implies an invalid expression. (This approach is inefficient)**  \n",
    "\n",
    "Runtime: 52 ms, faster than 18.60% of Python3 online submissions for Valid Parentheses.  \n",
    "Memory Usage: 13.1 MB, less than 5.22% of Python3 online submissions for Valid Parentheses."
   ]
  },
  {
   "cell_type": "code",
   "execution_count": 2,
   "metadata": {
    "ExecuteTime": {
     "end_time": "2019-04-19T07:44:02.021821Z",
     "start_time": "2019-04-19T07:44:02.013810Z"
    }
   },
   "outputs": [],
   "source": [
    "class Solution:\n",
    "    def isValid(self, s: str) -> bool:\n",
    "        while '()' in s or '{}' in s or '[]' in s:\n",
    "            s = s.replace('{}','').replace('()','').replace('[]','')\n",
    "        return (s == \"\")"
   ]
  },
  {
   "cell_type": "markdown",
   "metadata": {},
   "source": [
    "总结：  \n",
    "- 栈(stacks)的运用  \n",
    "建立栈：直接建立`stack = [\"Eric\", \"John\", \"Michael\"]`  \n",
    "出栈操作：`stack.pop()`  \n",
    "入栈操作：`stack.append()` \n",
    "\n",
    "- 队列的运用：  \n",
    "建立队列：`queue = deque([\"Eric\", \"John\", \"Michael\"])`  \n",
    "出队操作：`queue.popleft()`  \n",
    "入队操作：`queue.append()`\n",
    "\n",
    "- 字典的应用  \n",
    "建立字典：`mapping = {\"索引1;内容1\",\"索引2:内容2\",...}`  \n",
    "使用字典：`mapping[\"索引\"]`"
   ]
  }
 ],
 "metadata": {
  "kernelspec": {
   "display_name": "Python 3",
   "language": "python",
   "name": "python3"
  },
  "language_info": {
   "codemirror_mode": {
    "name": "ipython",
    "version": 3
   },
   "file_extension": ".py",
   "mimetype": "text/x-python",
   "name": "python",
   "nbconvert_exporter": "python",
   "pygments_lexer": "ipython3",
   "version": "3.7.1"
  },
  "toc": {
   "base_numbering": 1,
   "nav_menu": {},
   "number_sections": false,
   "sideBar": true,
   "skip_h1_title": false,
   "title_cell": "Table of Contents",
   "title_sidebar": "Contents",
   "toc_cell": false,
   "toc_position": {},
   "toc_section_display": true,
   "toc_window_display": false
  },
  "varInspector": {
   "cols": {
    "lenName": 16,
    "lenType": 16,
    "lenVar": 40
   },
   "kernels_config": {
    "python": {
     "delete_cmd_postfix": "",
     "delete_cmd_prefix": "del ",
     "library": "var_list.py",
     "varRefreshCmd": "print(var_dic_list())"
    },
    "r": {
     "delete_cmd_postfix": ") ",
     "delete_cmd_prefix": "rm(",
     "library": "var_list.r",
     "varRefreshCmd": "cat(var_dic_list()) "
    }
   },
   "types_to_exclude": [
    "module",
    "function",
    "builtin_function_or_method",
    "instance",
    "_Feature"
   ],
   "window_display": false
  }
 },
 "nbformat": 4,
 "nbformat_minor": 2
}
