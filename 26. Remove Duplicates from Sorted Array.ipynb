{
 "cells": [
  {
   "cell_type": "markdown",
   "metadata": {},
   "source": [
    "## 26. Remove Duplicates from Sorted Array"
   ]
  },
  {
   "cell_type": "markdown",
   "metadata": {},
   "source": [
    "Given a sorted array nums, remove the duplicates in-place such that each element appear only once and return the new length.  \n",
    "Do not allocate extra space for another array, you must do this by modifying the input array in-place with O(1) extra memory.\n",
    "\n",
    "Example 1:  \n",
    "Given nums = [1,1,2],  \n",
    "Your function should return length = 2, with the first two elements of nums being 1 and 2 respectively.  \n",
    "It doesn't matter what you leave beyond the returned length.  \n",
    "\n",
    "Example 2:  \n",
    "Given nums = [0,0,1,1,1,2,2,3,3,4],  \n",
    "Your function should return length = 5, with the first five elements of nums being modified to 0, 1, 2, 3, and 4 respectively.  \n",
    "It doesn't matter what values are set beyond the returned length.  \n",
    "\n",
    "Clarification:  \n",
    "Confused why the returned value is an integer but your answer is an array?  \n",
    "Note that the input array is passed in by reference, which means modification to the input array will be known to the caller as well.  \n",
    "Internally you can think of this:  "
   ]
  },
  {
   "cell_type": "markdown",
   "metadata": {},
   "source": [
    "1. **Since the array is already sorted, we can keep two pointers i and j, where i is the slow-runner while j is the fast-runner. As long as nums[i] = nums[j], we increment j to skip the duplicate.  \n",
    "When we encounter nums[j]≠nums[i],the duplicate run has ended so we must copy its value to nums[i+1]. i is then incremented and we repeat the same process again until j reaches the end of array.**\n",
    "\n",
    "Runtime: 56 ms, faster than 96.01% of Python3 online submissions for Remove Duplicates from Sorted Array.  \n",
    "Memory Usage: 14.5 MB, less than 5.43% of Python3 online submissions for Remove Duplicates from Sorted Array."
   ]
  },
  {
   "cell_type": "code",
   "execution_count": 3,
   "metadata": {
    "ExecuteTime": {
     "end_time": "2019-04-21T13:59:17.070733Z",
     "start_time": "2019-04-21T13:59:17.062754Z"
    }
   },
   "outputs": [],
   "source": [
    "class Solution:\n",
    "    def removeDuplicates(self, nums):\n",
    "        # removeDuplicates(self, nums: List[int]) -> int\n",
    "        if len(nums) == 0:\n",
    "            return 0;\n",
    "        i = 0;\n",
    "        for j in range(len(nums)):\n",
    "            if nums[j] != nums[i]:\n",
    "                i = i + 1;\n",
    "                nums[i] = nums[j];\n",
    "        return i + 1;"
   ]
  },
  {
   "cell_type": "markdown",
   "metadata": {},
   "source": [
    "2. **A cheating method using dictionary**  \n",
    "\n",
    "Runtime: 56 ms, faster than 96.01% of Python3 online submissions for Remove Duplicates from Sorted Array.  \n",
    "Memory Usage: 15 MB, less than 5.43% of Python3 online submissions for Remove Duplicates from Sorted Array."
   ]
  },
  {
   "cell_type": "code",
   "execution_count": 6,
   "metadata": {
    "ExecuteTime": {
     "end_time": "2019-04-21T15:16:00.372863Z",
     "start_time": "2019-04-21T15:16:00.365276Z"
    }
   },
   "outputs": [],
   "source": [
    "class Solution:\n",
    "    def removeDuplicates(self, nums):\n",
    "        # removeDuplicates(self, nums: List[int]) -> int\n",
    "        nums[:] = [*dict.fromkeys(nums)]\n",
    "        return len(nums)"
   ]
  },
  {
   "cell_type": "markdown",
   "metadata": {},
   "source": [
    "总结：  \n",
    "- 熟练运用求长度函数`len()`，注意不是length  \n",
    "- `dict.fromkeys(seq[, value])`用于创建一个新字典，以序列 seq 中元素做字典的键，value 为字典所有键对应的初始值。范例：  \n",
    "seq = ('Google', 'Runoob', 'Taobao')  \n",
    "dict = dict.fromkeys(seq)  \n",
    "print \"新字典为 : %s\" %  str(dict)  \n",
    "dict = dict.fromkeys(seq, 10)  \n",
    "print \"新字典为 : %s\" %  str(dict)  \n",
    "输出结果：  \n",
    "新字典为 : {'Google': None, 'Taobao': None, 'Runoob': None}  \n",
    "新字典为 : {'Google': 10, 'Taobao': 10, 'Runoob': 10}  \n",
    "**该函数在方法二中被巧妙地运用于删除重复值**。"
   ]
  }
 ],
 "metadata": {
  "kernelspec": {
   "display_name": "Python 3",
   "language": "python",
   "name": "python3"
  },
  "language_info": {
   "codemirror_mode": {
    "name": "ipython",
    "version": 3
   },
   "file_extension": ".py",
   "mimetype": "text/x-python",
   "name": "python",
   "nbconvert_exporter": "python",
   "pygments_lexer": "ipython3",
   "version": "3.7.1"
  },
  "toc": {
   "base_numbering": 1,
   "nav_menu": {},
   "number_sections": false,
   "sideBar": true,
   "skip_h1_title": false,
   "title_cell": "Table of Contents",
   "title_sidebar": "Contents",
   "toc_cell": false,
   "toc_position": {},
   "toc_section_display": true,
   "toc_window_display": false
  },
  "varInspector": {
   "cols": {
    "lenName": 16,
    "lenType": 16,
    "lenVar": 40
   },
   "kernels_config": {
    "python": {
     "delete_cmd_postfix": "",
     "delete_cmd_prefix": "del ",
     "library": "var_list.py",
     "varRefreshCmd": "print(var_dic_list())"
    },
    "r": {
     "delete_cmd_postfix": ") ",
     "delete_cmd_prefix": "rm(",
     "library": "var_list.r",
     "varRefreshCmd": "cat(var_dic_list()) "
    }
   },
   "types_to_exclude": [
    "module",
    "function",
    "builtin_function_or_method",
    "instance",
    "_Feature"
   ],
   "window_display": false
  }
 },
 "nbformat": 4,
 "nbformat_minor": 2
}
